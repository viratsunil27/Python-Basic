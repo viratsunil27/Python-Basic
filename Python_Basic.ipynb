{
  "nbformat": 4,
  "nbformat_minor": 0,
  "metadata": {
    "colab": {
      "provenance": []
    },
    "kernelspec": {
      "name": "python3",
      "display_name": "Python 3"
    },
    "language_info": {
      "name": "python"
    }
  },
  "cells": [
    {
      "cell_type": "code",
      "execution_count": null,
      "metadata": {
        "id": "eoGczvnz1Tnn"
      },
      "outputs": [],
      "source": []
    },
    {
      "cell_type": "markdown",
      "source": [
        "1. What is Python, and why is it popular\n",
        "-> Python is a programming language because it is easy to learn, versatile and open source.It is used for many application such as data science, machine learning.\n",
        "\n",
        "2. What is an interpreter in Python\n",
        "-> It is a program that reads and executes Python code. It translates Python code into instructions that the computer can understand.\n",
        "\n",
        "3. What are pre-defined keywords in Python\n",
        "-> And,or,not,break,continue,else,elif,while,return,boolean.\n",
        "\n",
        "4. Can keywords be used as variable names\n",
        "-> No, keywords cannot be used as variable names in programming languages.\n",
        "\n",
        "5. What is mutability in Python\n",
        "-> Mutability in python refers to ability of an object that can be modified after its created.\n",
        "\n",
        "6. Why are lists mutable, but tuples are immutable\n",
        "-> List are mutable because we can able to change the order of an itmes so lists is mutable.\n",
        "-> Tuples use parentheses instead of square brackets so tuples cannot be modified.\n",
        "\n",
        "7. What is the difference between “==” and “is” operators in Python\n",
        "-> \"==\" operator is used to compare eqality of value between two object.\n",
        "-> \"is\" where is operator verify if two variables reference to the same object in memory.\n",
        "\n",
        "8. What are logical operators in Python\n",
        "-> logical operators are used to combine or modify boolean expressions.There are three main logical operators: and, or, and not.\n",
        "\n",
        "9. What is type casting in Python\n",
        "-> It is the process of changing data type of a value or object.\n",
        "\n",
        "10. What is the difference between implicit and explicit type casting\n",
        "-> Implicit type casting happens automatically, while explicit type casting requires the programmer to intervene.\n",
        "\n",
        "11. What is the purpose of conditional statements in Python\n",
        "-> Conditional statements in Python is to control the flow of execution of a program based on whether a certain condition is true or false.\n",
        "\n",
        "12. How does the elif statement work\n",
        "-> Elif condition is used to check the multiple condition.\n",
        "\n",
        "13. What is the difference between for and while loops\n",
        "-> For loop is used to repeat a block of code a known number of times\n",
        "-> while loop repeats it an unknown number of times.\n",
        "\n",
        "14. Describe a scenario where a while loop is more suitable than a for loop.\n",
        " -> Use a while loop for reading a file into a variable. Use a while loop when asking for user input."
      ],
      "metadata": {
        "id": "pG4FPv2c1w2K"
      }
    }
  ]
}